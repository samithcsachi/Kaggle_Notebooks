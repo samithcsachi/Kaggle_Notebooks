{
 "cells": [
  {
   "cell_type": "markdown",
   "id": "92a01414",
   "metadata": {
    "papermill": {
     "duration": 0.004834,
     "end_time": "2025-10-07T19:41:00.056991",
     "exception": false,
     "start_time": "2025-10-07T19:41:00.052157",
     "status": "completed"
    },
    "tags": []
   },
   "source": [
    "### Import the necessary libraries "
   ]
  },
  {
   "cell_type": "code",
   "execution_count": 1,
   "id": "0a72d9d7",
   "metadata": {
    "execution": {
     "iopub.execute_input": "2025-10-07T19:41:00.066905Z",
     "iopub.status.busy": "2025-10-07T19:41:00.066524Z",
     "iopub.status.idle": "2025-10-07T19:41:02.063582Z",
     "shell.execute_reply": "2025-10-07T19:41:02.062531Z"
    },
    "papermill": {
     "duration": 2.004283,
     "end_time": "2025-10-07T19:41:02.065528",
     "exception": false,
     "start_time": "2025-10-07T19:41:00.061245",
     "status": "completed"
    },
    "tags": []
   },
   "outputs": [],
   "source": [
    "import numpy as np \n",
    "import pandas as pd\n"
   ]
  },
  {
   "cell_type": "code",
   "execution_count": 2,
   "id": "ca7d494c",
   "metadata": {
    "execution": {
     "iopub.execute_input": "2025-10-07T19:41:02.075813Z",
     "iopub.status.busy": "2025-10-07T19:41:02.075376Z",
     "iopub.status.idle": "2025-10-07T19:41:02.101925Z",
     "shell.execute_reply": "2025-10-07T19:41:02.100801Z"
    },
    "papermill": {
     "duration": 0.033785,
     "end_time": "2025-10-07T19:41:02.103640",
     "exception": false,
     "start_time": "2025-10-07T19:41:02.069855",
     "status": "completed"
    },
    "tags": []
   },
   "outputs": [],
   "source": [
    "df = pd.read_csv('/kaggle/input/bach-chorales-2/train/chorale_000.csv')"
   ]
  },
  {
   "cell_type": "code",
   "execution_count": 3,
   "id": "796b4cf5",
   "metadata": {
    "execution": {
     "iopub.execute_input": "2025-10-07T19:41:02.113693Z",
     "iopub.status.busy": "2025-10-07T19:41:02.113379Z",
     "iopub.status.idle": "2025-10-07T19:41:02.143524Z",
     "shell.execute_reply": "2025-10-07T19:41:02.142541Z"
    },
    "papermill": {
     "duration": 0.037469,
     "end_time": "2025-10-07T19:41:02.145502",
     "exception": false,
     "start_time": "2025-10-07T19:41:02.108033",
     "status": "completed"
    },
    "tags": []
   },
   "outputs": [
    {
     "data": {
      "text/html": [
       "<div>\n",
       "<style scoped>\n",
       "    .dataframe tbody tr th:only-of-type {\n",
       "        vertical-align: middle;\n",
       "    }\n",
       "\n",
       "    .dataframe tbody tr th {\n",
       "        vertical-align: top;\n",
       "    }\n",
       "\n",
       "    .dataframe thead th {\n",
       "        text-align: right;\n",
       "    }\n",
       "</style>\n",
       "<table border=\"1\" class=\"dataframe\">\n",
       "  <thead>\n",
       "    <tr style=\"text-align: right;\">\n",
       "      <th></th>\n",
       "      <th>note0</th>\n",
       "      <th>note1</th>\n",
       "      <th>note2</th>\n",
       "      <th>note3</th>\n",
       "    </tr>\n",
       "  </thead>\n",
       "  <tbody>\n",
       "    <tr>\n",
       "      <th>0</th>\n",
       "      <td>74</td>\n",
       "      <td>70</td>\n",
       "      <td>65</td>\n",
       "      <td>58</td>\n",
       "    </tr>\n",
       "    <tr>\n",
       "      <th>1</th>\n",
       "      <td>74</td>\n",
       "      <td>70</td>\n",
       "      <td>65</td>\n",
       "      <td>58</td>\n",
       "    </tr>\n",
       "    <tr>\n",
       "      <th>2</th>\n",
       "      <td>74</td>\n",
       "      <td>70</td>\n",
       "      <td>65</td>\n",
       "      <td>58</td>\n",
       "    </tr>\n",
       "    <tr>\n",
       "      <th>3</th>\n",
       "      <td>74</td>\n",
       "      <td>70</td>\n",
       "      <td>65</td>\n",
       "      <td>58</td>\n",
       "    </tr>\n",
       "    <tr>\n",
       "      <th>4</th>\n",
       "      <td>75</td>\n",
       "      <td>70</td>\n",
       "      <td>58</td>\n",
       "      <td>55</td>\n",
       "    </tr>\n",
       "    <tr>\n",
       "      <th>...</th>\n",
       "      <td>...</td>\n",
       "      <td>...</td>\n",
       "      <td>...</td>\n",
       "      <td>...</td>\n",
       "    </tr>\n",
       "    <tr>\n",
       "      <th>187</th>\n",
       "      <td>70</td>\n",
       "      <td>65</td>\n",
       "      <td>62</td>\n",
       "      <td>46</td>\n",
       "    </tr>\n",
       "    <tr>\n",
       "      <th>188</th>\n",
       "      <td>70</td>\n",
       "      <td>65</td>\n",
       "      <td>62</td>\n",
       "      <td>46</td>\n",
       "    </tr>\n",
       "    <tr>\n",
       "      <th>189</th>\n",
       "      <td>70</td>\n",
       "      <td>65</td>\n",
       "      <td>62</td>\n",
       "      <td>46</td>\n",
       "    </tr>\n",
       "    <tr>\n",
       "      <th>190</th>\n",
       "      <td>70</td>\n",
       "      <td>65</td>\n",
       "      <td>62</td>\n",
       "      <td>46</td>\n",
       "    </tr>\n",
       "    <tr>\n",
       "      <th>191</th>\n",
       "      <td>70</td>\n",
       "      <td>65</td>\n",
       "      <td>62</td>\n",
       "      <td>46</td>\n",
       "    </tr>\n",
       "  </tbody>\n",
       "</table>\n",
       "<p>192 rows × 4 columns</p>\n",
       "</div>"
      ],
      "text/plain": [
       "     note0  note1  note2  note3\n",
       "0       74     70     65     58\n",
       "1       74     70     65     58\n",
       "2       74     70     65     58\n",
       "3       74     70     65     58\n",
       "4       75     70     58     55\n",
       "..     ...    ...    ...    ...\n",
       "187     70     65     62     46\n",
       "188     70     65     62     46\n",
       "189     70     65     62     46\n",
       "190     70     65     62     46\n",
       "191     70     65     62     46\n",
       "\n",
       "[192 rows x 4 columns]"
      ]
     },
     "execution_count": 3,
     "metadata": {},
     "output_type": "execute_result"
    }
   ],
   "source": [
    "df"
   ]
  },
  {
   "cell_type": "code",
   "execution_count": 4,
   "id": "0ea7138e",
   "metadata": {
    "execution": {
     "iopub.execute_input": "2025-10-07T19:41:02.155560Z",
     "iopub.status.busy": "2025-10-07T19:41:02.155272Z",
     "iopub.status.idle": "2025-10-07T19:41:02.160353Z",
     "shell.execute_reply": "2025-10-07T19:41:02.159502Z"
    },
    "papermill": {
     "duration": 0.011726,
     "end_time": "2025-10-07T19:41:02.161725",
     "exception": false,
     "start_time": "2025-10-07T19:41:02.149999",
     "status": "completed"
    },
    "tags": []
   },
   "outputs": [],
   "source": [
    "import os \n",
    "data_dir = '/kaggle/input/bach-chorales-2'\n",
    "\n",
    "train_dir = os.path.join(data_dir,'train')\n",
    "test_dir = os.path.join(data_dir,'test')\n",
    "valid_dir = os.path.join(data_dir,'valid')\n"
   ]
  },
  {
   "cell_type": "code",
   "execution_count": 5,
   "id": "5ab63c84",
   "metadata": {
    "execution": {
     "iopub.execute_input": "2025-10-07T19:41:02.171738Z",
     "iopub.status.busy": "2025-10-07T19:41:02.171443Z",
     "iopub.status.idle": "2025-10-07T19:41:02.215394Z",
     "shell.execute_reply": "2025-10-07T19:41:02.214228Z"
    },
    "papermill": {
     "duration": 0.050843,
     "end_time": "2025-10-07T19:41:02.217122",
     "exception": false,
     "start_time": "2025-10-07T19:41:02.166279",
     "status": "completed"
    },
    "tags": []
   },
   "outputs": [],
   "source": [
    "train_files = sorted(\n",
    "    [os.path.join(train_dir, f) for f in os.listdir(train_dir) if f.endswith('.csv')]\n",
    ")\n",
    "\n",
    "test_files = sorted(\n",
    "    [os.path.join(test_dir, f) for f in os.listdir(test_dir) if f.endswith('.csv')]\n",
    ")\n",
    "\n",
    "valid_files = sorted(\n",
    "    [os.path.join(valid_dir, f) for f in os.listdir(valid_dir) if f.endswith('.csv')]\n",
    ")\n"
   ]
  },
  {
   "cell_type": "code",
   "execution_count": 6,
   "id": "1003536f",
   "metadata": {
    "execution": {
     "iopub.execute_input": "2025-10-07T19:41:02.227444Z",
     "iopub.status.busy": "2025-10-07T19:41:02.227109Z",
     "iopub.status.idle": "2025-10-07T19:41:04.986440Z",
     "shell.execute_reply": "2025-10-07T19:41:04.985532Z"
    },
    "papermill": {
     "duration": 2.766762,
     "end_time": "2025-10-07T19:41:04.988183",
     "exception": false,
     "start_time": "2025-10-07T19:41:02.221421",
     "status": "completed"
    },
    "tags": []
   },
   "outputs": [],
   "source": [
    "train_data = [pd.read_csv(f).values.tolist() for f in train_files]\n",
    "test_data = [pd.read_csv(f).values.tolist() for f in test_files]\n",
    "valid_data = [pd.read_csv(f).values.tolist() for f in valid_files]"
   ]
  },
  {
   "cell_type": "code",
   "execution_count": 7,
   "id": "7ef7bf8f",
   "metadata": {
    "execution": {
     "iopub.execute_input": "2025-10-07T19:41:04.998904Z",
     "iopub.status.busy": "2025-10-07T19:41:04.998081Z",
     "iopub.status.idle": "2025-10-07T19:41:09.908540Z",
     "shell.execute_reply": "2025-10-07T19:41:09.907562Z"
    },
    "papermill": {
     "duration": 4.917408,
     "end_time": "2025-10-07T19:41:09.910175",
     "exception": false,
     "start_time": "2025-10-07T19:41:04.992767",
     "status": "completed"
    },
    "tags": []
   },
   "outputs": [
    {
     "data": {
      "text/html": [
       "\n",
       "        <div id=\"midiPlayerDiv988\"></div>\n",
       "        <link rel=\"stylesheet\" href=\"https://cuthbertLab.github.io/music21j/css/m21.css\">\n",
       "        \n",
       "        <script\n",
       "        src=\"https://cdnjs.cloudflare.com/ajax/libs/require.js/2.3.6/require.min.js\"\n",
       "        ></script>\n",
       "    \n",
       "        <script>\n",
       "        function midiPlayerDiv988_play() {\n",
       "            const rq = require.config({\n",
       "                paths: {\n",
       "                    'music21': 'https://cuthbertLab.github.io/music21j/releases/music21.debug',\n",
       "                }\n",
       "            });\n",
       "            rq(['music21'], function(music21) {\n",
       "                mp = new music21.miditools.MidiPlayer();\n",
       "                mp.addPlayer(\"#midiPlayerDiv988\");\n",
       "                mp.base64Load(\"data:audio/midi;base64,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\");\n",
       "            });\n",
       "        }\n",
       "        if (typeof require === 'undefined') {\n",
       "            setTimeout(midiPlayerDiv988_play, 2000);\n",
       "        } else {\n",
       "            midiPlayerDiv988_play();\n",
       "        }\n",
       "        </script>"
      ],
      "text/plain": [
       "<IPython.core.display.HTML object>"
      ]
     },
     "metadata": {},
     "output_type": "display_data"
    }
   ],
   "source": [
    "from music21 import stream, chord \n",
    "\n",
    "chorale = train_data[20]\n",
    "\n",
    "s = stream.Stream()\n",
    "for row in chorale:\n",
    "    s.append(chord.Chord([n for n in row if n], quarterLenght=1))\n",
    "\n",
    "\n",
    "s.show('midi')"
   ]
  },
  {
   "cell_type": "markdown",
   "id": "b3338bc0",
   "metadata": {
    "papermill": {
     "duration": 0.004092,
     "end_time": "2025-10-07T19:41:09.919016",
     "exception": false,
     "start_time": "2025-10-07T19:41:09.914924",
     "status": "completed"
    },
    "tags": []
   },
   "source": [
    "### Preprocessing "
   ]
  },
  {
   "cell_type": "code",
   "execution_count": 8,
   "id": "8f44d03c",
   "metadata": {
    "execution": {
     "iopub.execute_input": "2025-10-07T19:41:09.928789Z",
     "iopub.status.busy": "2025-10-07T19:41:09.928501Z",
     "iopub.status.idle": "2025-10-07T19:41:10.046294Z",
     "shell.execute_reply": "2025-10-07T19:41:10.045424Z"
    },
    "papermill": {
     "duration": 0.124754,
     "end_time": "2025-10-07T19:41:10.047987",
     "exception": false,
     "start_time": "2025-10-07T19:41:09.923233",
     "status": "completed"
    },
    "tags": []
   },
   "outputs": [],
   "source": [
    "min_note, max_note = 36, 81\n",
    "\n",
    "window_size, window_offset, batch_size = 32, 16, 32 \n",
    "\n",
    "def make_xy(chorales):\n",
    "    windows = [c[i:i + window_size + 1] for c in chorales for i in range(0, len(c) - window_size, window_offset)]\n",
    "    data = np.array(windows, dtype=int)\n",
    "    \n",
    "    data = np.where(data == 0, 0, data -min_note +1)\n",
    "    data = np.clip(data, 0, max_note - min_note + 1)\n",
    "\n",
    "    flat = data.reshape(data.shape[0], -1)\n",
    "\n",
    "    return flat[:, :-1], flat[:,1:]\n",
    "\n",
    "X_train, y_train = make_xy(train_data)\n",
    "X_test, y_test = make_xy(test_data)\n",
    "X_valid, y_valid = make_xy(valid_data)\n",
    "    "
   ]
  },
  {
   "cell_type": "markdown",
   "id": "e430742f",
   "metadata": {
    "papermill": {
     "duration": 0.00415,
     "end_time": "2025-10-07T19:41:10.056655",
     "exception": false,
     "start_time": "2025-10-07T19:41:10.052505",
     "status": "completed"
    },
    "tags": []
   },
   "source": [
    "### Training the Model "
   ]
  },
  {
   "cell_type": "code",
   "execution_count": 9,
   "id": "4d981986",
   "metadata": {
    "execution": {
     "iopub.execute_input": "2025-10-07T19:41:10.066798Z",
     "iopub.status.busy": "2025-10-07T19:41:10.066481Z",
     "iopub.status.idle": "2025-10-07T19:41:28.888652Z",
     "shell.execute_reply": "2025-10-07T19:41:28.887764Z"
    },
    "papermill": {
     "duration": 18.829323,
     "end_time": "2025-10-07T19:41:28.890381",
     "exception": false,
     "start_time": "2025-10-07T19:41:10.061058",
     "status": "completed"
    },
    "tags": []
   },
   "outputs": [
    {
     "name": "stderr",
     "output_type": "stream",
     "text": [
      "2025-10-07 19:41:12.219328: E external/local_xla/xla/stream_executor/cuda/cuda_fft.cc:477] Unable to register cuFFT factory: Attempting to register factory for plugin cuFFT when one has already been registered\n",
      "WARNING: All log messages before absl::InitializeLog() is called are written to STDERR\n",
      "E0000 00:00:1759866072.494791      13 cuda_dnn.cc:8310] Unable to register cuDNN factory: Attempting to register factory for plugin cuDNN when one has already been registered\n",
      "E0000 00:00:1759866072.575147      13 cuda_blas.cc:1418] Unable to register cuBLAS factory: Attempting to register factory for plugin cuBLAS when one has already been registered\n"
     ]
    }
   ],
   "source": [
    "from tensorflow.keras.models import Sequential\n",
    "from tensorflow.keras.layers import Conv1D, Dense, Embedding, LSTM, Dropout, BatchNormalization\n",
    "from tensorflow.keras.optimizers import Nadam\n",
    "\n",
    "\n"
   ]
  },
  {
   "cell_type": "code",
   "execution_count": 10,
   "id": "86d9ad69",
   "metadata": {
    "execution": {
     "iopub.execute_input": "2025-10-07T19:41:28.901990Z",
     "iopub.status.busy": "2025-10-07T19:41:28.900785Z",
     "iopub.status.idle": "2025-10-07T19:41:29.243131Z",
     "shell.execute_reply": "2025-10-07T19:41:29.242055Z"
    },
    "papermill": {
     "duration": 0.349383,
     "end_time": "2025-10-07T19:41:29.244580",
     "exception": false,
     "start_time": "2025-10-07T19:41:28.895197",
     "status": "completed"
    },
    "tags": []
   },
   "outputs": [
    {
     "name": "stderr",
     "output_type": "stream",
     "text": [
      "/usr/local/lib/python3.11/dist-packages/keras/src/layers/core/embedding.py:93: UserWarning: Do not pass an `input_shape`/`input_dim` argument to a layer. When using Sequential models, prefer using an `Input(shape)` object as the first layer in the model instead.\n",
      "  super().__init__(**kwargs)\n",
      "2025-10-07 19:41:28.913355: E external/local_xla/xla/stream_executor/cuda/cuda_driver.cc:152] failed call to cuInit: INTERNAL: CUDA error: Failed call to cuInit: UNKNOWN ERROR (303)\n"
     ]
    },
    {
     "data": {
      "text/html": [
       "<pre style=\"white-space:pre;overflow-x:auto;line-height:normal;font-family:Menlo,'DejaVu Sans Mono',consolas,'Courier New',monospace\"><span style=\"font-weight: bold\">Model: \"sequential\"</span>\n",
       "</pre>\n"
      ],
      "text/plain": [
       "\u001b[1mModel: \"sequential\"\u001b[0m\n"
      ]
     },
     "metadata": {},
     "output_type": "display_data"
    },
    {
     "data": {
      "text/html": [
       "<pre style=\"white-space:pre;overflow-x:auto;line-height:normal;font-family:Menlo,'DejaVu Sans Mono',consolas,'Courier New',monospace\">┏━━━━━━━━━━━━━━━━━━━━━━━━━━━━━━━━━┳━━━━━━━━━━━━━━━━━━━━━━━━┳━━━━━━━━━━━━━━━┓\n",
       "┃<span style=\"font-weight: bold\"> Layer (type)                    </span>┃<span style=\"font-weight: bold\"> Output Shape           </span>┃<span style=\"font-weight: bold\">       Param # </span>┃\n",
       "┡━━━━━━━━━━━━━━━━━━━━━━━━━━━━━━━━━╇━━━━━━━━━━━━━━━━━━━━━━━━╇━━━━━━━━━━━━━━━┩\n",
       "│ embedding (<span style=\"color: #0087ff; text-decoration-color: #0087ff\">Embedding</span>)           │ (<span style=\"color: #00d7ff; text-decoration-color: #00d7ff\">None</span>, <span style=\"color: #00d7ff; text-decoration-color: #00d7ff\">None</span>, <span style=\"color: #00af00; text-decoration-color: #00af00\">5</span>)        │           <span style=\"color: #00af00; text-decoration-color: #00af00\">235</span> │\n",
       "├─────────────────────────────────┼────────────────────────┼───────────────┤\n",
       "│ conv1d (<span style=\"color: #0087ff; text-decoration-color: #0087ff\">Conv1D</span>)                 │ (<span style=\"color: #00d7ff; text-decoration-color: #00d7ff\">None</span>, <span style=\"color: #00d7ff; text-decoration-color: #00d7ff\">None</span>, <span style=\"color: #00af00; text-decoration-color: #00af00\">32</span>)       │           <span style=\"color: #00af00; text-decoration-color: #00af00\">352</span> │\n",
       "├─────────────────────────────────┼────────────────────────┼───────────────┤\n",
       "│ batch_normalization             │ (<span style=\"color: #00d7ff; text-decoration-color: #00d7ff\">None</span>, <span style=\"color: #00d7ff; text-decoration-color: #00d7ff\">None</span>, <span style=\"color: #00af00; text-decoration-color: #00af00\">32</span>)       │           <span style=\"color: #00af00; text-decoration-color: #00af00\">128</span> │\n",
       "│ (<span style=\"color: #0087ff; text-decoration-color: #0087ff\">BatchNormalization</span>)            │                        │               │\n",
       "├─────────────────────────────────┼────────────────────────┼───────────────┤\n",
       "│ conv1d_1 (<span style=\"color: #0087ff; text-decoration-color: #0087ff\">Conv1D</span>)               │ (<span style=\"color: #00d7ff; text-decoration-color: #00d7ff\">None</span>, <span style=\"color: #00d7ff; text-decoration-color: #00d7ff\">None</span>, <span style=\"color: #00af00; text-decoration-color: #00af00\">48</span>)       │         <span style=\"color: #00af00; text-decoration-color: #00af00\">3,120</span> │\n",
       "├─────────────────────────────────┼────────────────────────┼───────────────┤\n",
       "│ batch_normalization_1           │ (<span style=\"color: #00d7ff; text-decoration-color: #00d7ff\">None</span>, <span style=\"color: #00d7ff; text-decoration-color: #00d7ff\">None</span>, <span style=\"color: #00af00; text-decoration-color: #00af00\">48</span>)       │           <span style=\"color: #00af00; text-decoration-color: #00af00\">192</span> │\n",
       "│ (<span style=\"color: #0087ff; text-decoration-color: #0087ff\">BatchNormalization</span>)            │                        │               │\n",
       "├─────────────────────────────────┼────────────────────────┼───────────────┤\n",
       "│ conv1d_2 (<span style=\"color: #0087ff; text-decoration-color: #0087ff\">Conv1D</span>)               │ (<span style=\"color: #00d7ff; text-decoration-color: #00d7ff\">None</span>, <span style=\"color: #00d7ff; text-decoration-color: #00d7ff\">None</span>, <span style=\"color: #00af00; text-decoration-color: #00af00\">64</span>)       │         <span style=\"color: #00af00; text-decoration-color: #00af00\">6,208</span> │\n",
       "├─────────────────────────────────┼────────────────────────┼───────────────┤\n",
       "│ batch_normalization_2           │ (<span style=\"color: #00d7ff; text-decoration-color: #00d7ff\">None</span>, <span style=\"color: #00d7ff; text-decoration-color: #00d7ff\">None</span>, <span style=\"color: #00af00; text-decoration-color: #00af00\">64</span>)       │           <span style=\"color: #00af00; text-decoration-color: #00af00\">256</span> │\n",
       "│ (<span style=\"color: #0087ff; text-decoration-color: #0087ff\">BatchNormalization</span>)            │                        │               │\n",
       "├─────────────────────────────────┼────────────────────────┼───────────────┤\n",
       "│ conv1d_3 (<span style=\"color: #0087ff; text-decoration-color: #0087ff\">Conv1D</span>)               │ (<span style=\"color: #00d7ff; text-decoration-color: #00d7ff\">None</span>, <span style=\"color: #00d7ff; text-decoration-color: #00d7ff\">None</span>, <span style=\"color: #00af00; text-decoration-color: #00af00\">96</span>)       │        <span style=\"color: #00af00; text-decoration-color: #00af00\">12,384</span> │\n",
       "├─────────────────────────────────┼────────────────────────┼───────────────┤\n",
       "│ batch_normalization_3           │ (<span style=\"color: #00d7ff; text-decoration-color: #00d7ff\">None</span>, <span style=\"color: #00d7ff; text-decoration-color: #00d7ff\">None</span>, <span style=\"color: #00af00; text-decoration-color: #00af00\">96</span>)       │           <span style=\"color: #00af00; text-decoration-color: #00af00\">384</span> │\n",
       "│ (<span style=\"color: #0087ff; text-decoration-color: #0087ff\">BatchNormalization</span>)            │                        │               │\n",
       "├─────────────────────────────────┼────────────────────────┼───────────────┤\n",
       "│ conv1d_4 (<span style=\"color: #0087ff; text-decoration-color: #0087ff\">Conv1D</span>)               │ (<span style=\"color: #00d7ff; text-decoration-color: #00d7ff\">None</span>, <span style=\"color: #00d7ff; text-decoration-color: #00d7ff\">None</span>, <span style=\"color: #00af00; text-decoration-color: #00af00\">128</span>)      │        <span style=\"color: #00af00; text-decoration-color: #00af00\">24,704</span> │\n",
       "├─────────────────────────────────┼────────────────────────┼───────────────┤\n",
       "│ batch_normalization_4           │ (<span style=\"color: #00d7ff; text-decoration-color: #00d7ff\">None</span>, <span style=\"color: #00d7ff; text-decoration-color: #00d7ff\">None</span>, <span style=\"color: #00af00; text-decoration-color: #00af00\">128</span>)      │           <span style=\"color: #00af00; text-decoration-color: #00af00\">512</span> │\n",
       "│ (<span style=\"color: #0087ff; text-decoration-color: #0087ff\">BatchNormalization</span>)            │                        │               │\n",
       "├─────────────────────────────────┼────────────────────────┼───────────────┤\n",
       "│ dropout (<span style=\"color: #0087ff; text-decoration-color: #0087ff\">Dropout</span>)               │ (<span style=\"color: #00d7ff; text-decoration-color: #00d7ff\">None</span>, <span style=\"color: #00d7ff; text-decoration-color: #00d7ff\">None</span>, <span style=\"color: #00af00; text-decoration-color: #00af00\">128</span>)      │             <span style=\"color: #00af00; text-decoration-color: #00af00\">0</span> │\n",
       "├─────────────────────────────────┼────────────────────────┼───────────────┤\n",
       "│ lstm (<span style=\"color: #0087ff; text-decoration-color: #0087ff\">LSTM</span>)                     │ (<span style=\"color: #00d7ff; text-decoration-color: #00d7ff\">None</span>, <span style=\"color: #00d7ff; text-decoration-color: #00d7ff\">None</span>, <span style=\"color: #00af00; text-decoration-color: #00af00\">256</span>)      │       <span style=\"color: #00af00; text-decoration-color: #00af00\">394,240</span> │\n",
       "├─────────────────────────────────┼────────────────────────┼───────────────┤\n",
       "│ dense (<span style=\"color: #0087ff; text-decoration-color: #0087ff\">Dense</span>)                   │ (<span style=\"color: #00d7ff; text-decoration-color: #00d7ff\">None</span>, <span style=\"color: #00d7ff; text-decoration-color: #00d7ff\">None</span>, <span style=\"color: #00af00; text-decoration-color: #00af00\">47</span>)       │        <span style=\"color: #00af00; text-decoration-color: #00af00\">12,079</span> │\n",
       "└─────────────────────────────────┴────────────────────────┴───────────────┘\n",
       "</pre>\n"
      ],
      "text/plain": [
       "┏━━━━━━━━━━━━━━━━━━━━━━━━━━━━━━━━━┳━━━━━━━━━━━━━━━━━━━━━━━━┳━━━━━━━━━━━━━━━┓\n",
       "┃\u001b[1m \u001b[0m\u001b[1mLayer (type)                   \u001b[0m\u001b[1m \u001b[0m┃\u001b[1m \u001b[0m\u001b[1mOutput Shape          \u001b[0m\u001b[1m \u001b[0m┃\u001b[1m \u001b[0m\u001b[1m      Param #\u001b[0m\u001b[1m \u001b[0m┃\n",
       "┡━━━━━━━━━━━━━━━━━━━━━━━━━━━━━━━━━╇━━━━━━━━━━━━━━━━━━━━━━━━╇━━━━━━━━━━━━━━━┩\n",
       "│ embedding (\u001b[38;5;33mEmbedding\u001b[0m)           │ (\u001b[38;5;45mNone\u001b[0m, \u001b[38;5;45mNone\u001b[0m, \u001b[38;5;34m5\u001b[0m)        │           \u001b[38;5;34m235\u001b[0m │\n",
       "├─────────────────────────────────┼────────────────────────┼───────────────┤\n",
       "│ conv1d (\u001b[38;5;33mConv1D\u001b[0m)                 │ (\u001b[38;5;45mNone\u001b[0m, \u001b[38;5;45mNone\u001b[0m, \u001b[38;5;34m32\u001b[0m)       │           \u001b[38;5;34m352\u001b[0m │\n",
       "├─────────────────────────────────┼────────────────────────┼───────────────┤\n",
       "│ batch_normalization             │ (\u001b[38;5;45mNone\u001b[0m, \u001b[38;5;45mNone\u001b[0m, \u001b[38;5;34m32\u001b[0m)       │           \u001b[38;5;34m128\u001b[0m │\n",
       "│ (\u001b[38;5;33mBatchNormalization\u001b[0m)            │                        │               │\n",
       "├─────────────────────────────────┼────────────────────────┼───────────────┤\n",
       "│ conv1d_1 (\u001b[38;5;33mConv1D\u001b[0m)               │ (\u001b[38;5;45mNone\u001b[0m, \u001b[38;5;45mNone\u001b[0m, \u001b[38;5;34m48\u001b[0m)       │         \u001b[38;5;34m3,120\u001b[0m │\n",
       "├─────────────────────────────────┼────────────────────────┼───────────────┤\n",
       "│ batch_normalization_1           │ (\u001b[38;5;45mNone\u001b[0m, \u001b[38;5;45mNone\u001b[0m, \u001b[38;5;34m48\u001b[0m)       │           \u001b[38;5;34m192\u001b[0m │\n",
       "│ (\u001b[38;5;33mBatchNormalization\u001b[0m)            │                        │               │\n",
       "├─────────────────────────────────┼────────────────────────┼───────────────┤\n",
       "│ conv1d_2 (\u001b[38;5;33mConv1D\u001b[0m)               │ (\u001b[38;5;45mNone\u001b[0m, \u001b[38;5;45mNone\u001b[0m, \u001b[38;5;34m64\u001b[0m)       │         \u001b[38;5;34m6,208\u001b[0m │\n",
       "├─────────────────────────────────┼────────────────────────┼───────────────┤\n",
       "│ batch_normalization_2           │ (\u001b[38;5;45mNone\u001b[0m, \u001b[38;5;45mNone\u001b[0m, \u001b[38;5;34m64\u001b[0m)       │           \u001b[38;5;34m256\u001b[0m │\n",
       "│ (\u001b[38;5;33mBatchNormalization\u001b[0m)            │                        │               │\n",
       "├─────────────────────────────────┼────────────────────────┼───────────────┤\n",
       "│ conv1d_3 (\u001b[38;5;33mConv1D\u001b[0m)               │ (\u001b[38;5;45mNone\u001b[0m, \u001b[38;5;45mNone\u001b[0m, \u001b[38;5;34m96\u001b[0m)       │        \u001b[38;5;34m12,384\u001b[0m │\n",
       "├─────────────────────────────────┼────────────────────────┼───────────────┤\n",
       "│ batch_normalization_3           │ (\u001b[38;5;45mNone\u001b[0m, \u001b[38;5;45mNone\u001b[0m, \u001b[38;5;34m96\u001b[0m)       │           \u001b[38;5;34m384\u001b[0m │\n",
       "│ (\u001b[38;5;33mBatchNormalization\u001b[0m)            │                        │               │\n",
       "├─────────────────────────────────┼────────────────────────┼───────────────┤\n",
       "│ conv1d_4 (\u001b[38;5;33mConv1D\u001b[0m)               │ (\u001b[38;5;45mNone\u001b[0m, \u001b[38;5;45mNone\u001b[0m, \u001b[38;5;34m128\u001b[0m)      │        \u001b[38;5;34m24,704\u001b[0m │\n",
       "├─────────────────────────────────┼────────────────────────┼───────────────┤\n",
       "│ batch_normalization_4           │ (\u001b[38;5;45mNone\u001b[0m, \u001b[38;5;45mNone\u001b[0m, \u001b[38;5;34m128\u001b[0m)      │           \u001b[38;5;34m512\u001b[0m │\n",
       "│ (\u001b[38;5;33mBatchNormalization\u001b[0m)            │                        │               │\n",
       "├─────────────────────────────────┼────────────────────────┼───────────────┤\n",
       "│ dropout (\u001b[38;5;33mDropout\u001b[0m)               │ (\u001b[38;5;45mNone\u001b[0m, \u001b[38;5;45mNone\u001b[0m, \u001b[38;5;34m128\u001b[0m)      │             \u001b[38;5;34m0\u001b[0m │\n",
       "├─────────────────────────────────┼────────────────────────┼───────────────┤\n",
       "│ lstm (\u001b[38;5;33mLSTM\u001b[0m)                     │ (\u001b[38;5;45mNone\u001b[0m, \u001b[38;5;45mNone\u001b[0m, \u001b[38;5;34m256\u001b[0m)      │       \u001b[38;5;34m394,240\u001b[0m │\n",
       "├─────────────────────────────────┼────────────────────────┼───────────────┤\n",
       "│ dense (\u001b[38;5;33mDense\u001b[0m)                   │ (\u001b[38;5;45mNone\u001b[0m, \u001b[38;5;45mNone\u001b[0m, \u001b[38;5;34m47\u001b[0m)       │        \u001b[38;5;34m12,079\u001b[0m │\n",
       "└─────────────────────────────────┴────────────────────────┴───────────────┘\n"
      ]
     },
     "metadata": {},
     "output_type": "display_data"
    },
    {
     "data": {
      "text/html": [
       "<pre style=\"white-space:pre;overflow-x:auto;line-height:normal;font-family:Menlo,'DejaVu Sans Mono',consolas,'Courier New',monospace\"><span style=\"font-weight: bold\"> Total params: </span><span style=\"color: #00af00; text-decoration-color: #00af00\">454,794</span> (1.73 MB)\n",
       "</pre>\n"
      ],
      "text/plain": [
       "\u001b[1m Total params: \u001b[0m\u001b[38;5;34m454,794\u001b[0m (1.73 MB)\n"
      ]
     },
     "metadata": {},
     "output_type": "display_data"
    },
    {
     "data": {
      "text/html": [
       "<pre style=\"white-space:pre;overflow-x:auto;line-height:normal;font-family:Menlo,'DejaVu Sans Mono',consolas,'Courier New',monospace\"><span style=\"font-weight: bold\"> Trainable params: </span><span style=\"color: #00af00; text-decoration-color: #00af00\">454,058</span> (1.73 MB)\n",
       "</pre>\n"
      ],
      "text/plain": [
       "\u001b[1m Trainable params: \u001b[0m\u001b[38;5;34m454,058\u001b[0m (1.73 MB)\n"
      ]
     },
     "metadata": {},
     "output_type": "display_data"
    },
    {
     "data": {
      "text/html": [
       "<pre style=\"white-space:pre;overflow-x:auto;line-height:normal;font-family:Menlo,'DejaVu Sans Mono',consolas,'Courier New',monospace\"><span style=\"font-weight: bold\"> Non-trainable params: </span><span style=\"color: #00af00; text-decoration-color: #00af00\">736</span> (2.88 KB)\n",
       "</pre>\n"
      ],
      "text/plain": [
       "\u001b[1m Non-trainable params: \u001b[0m\u001b[38;5;34m736\u001b[0m (2.88 KB)\n"
      ]
     },
     "metadata": {},
     "output_type": "display_data"
    }
   ],
   "source": [
    "model = Sequential()\n",
    "\n",
    "model.add(Embedding(input_dim=47, output_dim=5, input_shape=[None] ))\n",
    "model.add(Conv1D(32, kernel_size=2, padding='causal', activation='relu'))\n",
    "model.add(BatchNormalization())\n",
    "model.add(Conv1D(48, kernel_size=2, padding='causal', activation='relu', dilation_rate=2))\n",
    "model.add(BatchNormalization())\n",
    "model.add(Conv1D(64, kernel_size=2, padding='causal', activation='relu', dilation_rate=4))\n",
    "model.add(BatchNormalization())\n",
    "model.add(Conv1D(96, kernel_size=2, padding='causal', activation='relu', dilation_rate=8))\n",
    "model.add(BatchNormalization())\n",
    "model.add(Conv1D(128, kernel_size=2, padding='causal', activation='relu', dilation_rate=16))\n",
    "model.add(BatchNormalization())\n",
    "model.add(Dropout(0.05))\n",
    "model.add(LSTM(256, return_sequences=True))\n",
    "model.add(Dense(47, activation='softmax'))\n",
    "\n",
    "model.summary()"
   ]
  },
  {
   "cell_type": "code",
   "execution_count": 11,
   "id": "48427bb3",
   "metadata": {
    "execution": {
     "iopub.execute_input": "2025-10-07T19:41:29.256829Z",
     "iopub.status.busy": "2025-10-07T19:41:29.256473Z",
     "iopub.status.idle": "2025-10-07T19:54:04.249016Z",
     "shell.execute_reply": "2025-10-07T19:54:04.247914Z"
    },
    "papermill": {
     "duration": 755.000419,
     "end_time": "2025-10-07T19:54:04.250692",
     "exception": false,
     "start_time": "2025-10-07T19:41:29.250273",
     "status": "completed"
    },
    "tags": []
   },
   "outputs": [
    {
     "name": "stdout",
     "output_type": "stream",
     "text": [
      "Epoch 1/20\n",
      "\u001b[1m98/98\u001b[0m \u001b[32m━━━━━━━━━━━━━━━━━━━━\u001b[0m\u001b[37m\u001b[0m \u001b[1m50s\u001b[0m 385ms/step - accuracy: 0.3293 - loss: 2.6238 - val_accuracy: 0.0688 - val_loss: 3.6868\n",
      "Epoch 2/20\n",
      "\u001b[1m98/98\u001b[0m \u001b[32m━━━━━━━━━━━━━━━━━━━━\u001b[0m\u001b[37m\u001b[0m \u001b[1m37s\u001b[0m 381ms/step - accuracy: 0.7645 - loss: 0.9056 - val_accuracy: 0.1043 - val_loss: 3.8363\n",
      "Epoch 3/20\n",
      "\u001b[1m98/98\u001b[0m \u001b[32m━━━━━━━━━━━━━━━━━━━━\u001b[0m\u001b[37m\u001b[0m \u001b[1m37s\u001b[0m 382ms/step - accuracy: 0.7966 - loss: 0.7257 - val_accuracy: 0.1939 - val_loss: 3.2377\n",
      "Epoch 4/20\n",
      "\u001b[1m98/98\u001b[0m \u001b[32m━━━━━━━━━━━━━━━━━━━━\u001b[0m\u001b[37m\u001b[0m \u001b[1m37s\u001b[0m 381ms/step - accuracy: 0.8127 - loss: 0.6425 - val_accuracy: 0.2783 - val_loss: 2.4717\n",
      "Epoch 5/20\n",
      "\u001b[1m98/98\u001b[0m \u001b[32m━━━━━━━━━━━━━━━━━━━━\u001b[0m\u001b[37m\u001b[0m \u001b[1m37s\u001b[0m 381ms/step - accuracy: 0.8251 - loss: 0.5892 - val_accuracy: 0.5482 - val_loss: 1.4752\n",
      "Epoch 6/20\n",
      "\u001b[1m98/98\u001b[0m \u001b[32m━━━━━━━━━━━━━━━━━━━━\u001b[0m\u001b[37m\u001b[0m \u001b[1m37s\u001b[0m 377ms/step - accuracy: 0.8356 - loss: 0.5483 - val_accuracy: 0.7690 - val_loss: 0.8086\n",
      "Epoch 7/20\n",
      "\u001b[1m98/98\u001b[0m \u001b[32m━━━━━━━━━━━━━━━━━━━━\u001b[0m\u001b[37m\u001b[0m \u001b[1m37s\u001b[0m 378ms/step - accuracy: 0.8458 - loss: 0.5088 - val_accuracy: 0.8149 - val_loss: 0.6362\n",
      "Epoch 8/20\n",
      "\u001b[1m98/98\u001b[0m \u001b[32m━━━━━━━━━━━━━━━━━━━━\u001b[0m\u001b[37m\u001b[0m \u001b[1m36s\u001b[0m 371ms/step - accuracy: 0.8532 - loss: 0.4801 - val_accuracy: 0.8229 - val_loss: 0.6017\n",
      "Epoch 9/20\n",
      "\u001b[1m98/98\u001b[0m \u001b[32m━━━━━━━━━━━━━━━━━━━━\u001b[0m\u001b[37m\u001b[0m \u001b[1m36s\u001b[0m 368ms/step - accuracy: 0.8594 - loss: 0.4560 - val_accuracy: 0.8257 - val_loss: 0.5905\n",
      "Epoch 10/20\n",
      "\u001b[1m98/98\u001b[0m \u001b[32m━━━━━━━━━━━━━━━━━━━━\u001b[0m\u001b[37m\u001b[0m \u001b[1m37s\u001b[0m 383ms/step - accuracy: 0.8674 - loss: 0.4297 - val_accuracy: 0.8277 - val_loss: 0.5867\n",
      "Epoch 11/20\n",
      "\u001b[1m98/98\u001b[0m \u001b[32m━━━━━━━━━━━━━━━━━━━━\u001b[0m\u001b[37m\u001b[0m \u001b[1m37s\u001b[0m 381ms/step - accuracy: 0.8739 - loss: 0.4085 - val_accuracy: 0.8249 - val_loss: 0.5953\n",
      "Epoch 12/20\n",
      "\u001b[1m98/98\u001b[0m \u001b[32m━━━━━━━━━━━━━━━━━━━━\u001b[0m\u001b[37m\u001b[0m \u001b[1m37s\u001b[0m 380ms/step - accuracy: 0.8788 - loss: 0.3912 - val_accuracy: 0.8269 - val_loss: 0.5902\n",
      "Epoch 13/20\n",
      "\u001b[1m98/98\u001b[0m \u001b[32m━━━━━━━━━━━━━━━━━━━━\u001b[0m\u001b[37m\u001b[0m \u001b[1m37s\u001b[0m 379ms/step - accuracy: 0.8855 - loss: 0.3683 - val_accuracy: 0.8279 - val_loss: 0.5902\n",
      "Epoch 14/20\n",
      "\u001b[1m98/98\u001b[0m \u001b[32m━━━━━━━━━━━━━━━━━━━━\u001b[0m\u001b[37m\u001b[0m \u001b[1m37s\u001b[0m 380ms/step - accuracy: 0.8909 - loss: 0.3521 - val_accuracy: 0.8232 - val_loss: 0.6059\n",
      "Epoch 15/20\n",
      "\u001b[1m98/98\u001b[0m \u001b[32m━━━━━━━━━━━━━━━━━━━━\u001b[0m\u001b[37m\u001b[0m \u001b[1m37s\u001b[0m 376ms/step - accuracy: 0.8960 - loss: 0.3335 - val_accuracy: 0.8252 - val_loss: 0.6051\n",
      "Epoch 16/20\n",
      "\u001b[1m98/98\u001b[0m \u001b[32m━━━━━━━━━━━━━━━━━━━━\u001b[0m\u001b[37m\u001b[0m \u001b[1m37s\u001b[0m 378ms/step - accuracy: 0.9028 - loss: 0.3133 - val_accuracy: 0.8246 - val_loss: 0.6153\n",
      "Epoch 17/20\n",
      "\u001b[1m98/98\u001b[0m \u001b[32m━━━━━━━━━━━━━━━━━━━━\u001b[0m\u001b[37m\u001b[0m \u001b[1m37s\u001b[0m 378ms/step - accuracy: 0.9056 - loss: 0.3023 - val_accuracy: 0.8209 - val_loss: 0.6259\n",
      "Epoch 18/20\n",
      "\u001b[1m98/98\u001b[0m \u001b[32m━━━━━━━━━━━━━━━━━━━━\u001b[0m\u001b[37m\u001b[0m \u001b[1m37s\u001b[0m 381ms/step - accuracy: 0.9100 - loss: 0.2906 - val_accuracy: 0.8205 - val_loss: 0.6355\n",
      "Epoch 19/20\n",
      "\u001b[1m98/98\u001b[0m \u001b[32m━━━━━━━━━━━━━━━━━━━━\u001b[0m\u001b[37m\u001b[0m \u001b[1m38s\u001b[0m 384ms/step - accuracy: 0.9142 - loss: 0.2755 - val_accuracy: 0.8234 - val_loss: 0.6322\n",
      "Epoch 20/20\n",
      "\u001b[1m98/98\u001b[0m \u001b[32m━━━━━━━━━━━━━━━━━━━━\u001b[0m\u001b[37m\u001b[0m \u001b[1m37s\u001b[0m 381ms/step - accuracy: 0.9192 - loss: 0.2606 - val_accuracy: 0.8236 - val_loss: 0.6369\n"
     ]
    },
    {
     "data": {
      "text/plain": [
       "<keras.src.callbacks.history.History at 0x7ecc9eb1b4d0>"
      ]
     },
     "execution_count": 11,
     "metadata": {},
     "output_type": "execute_result"
    }
   ],
   "source": [
    "optimizer = Nadam(learning_rate=1e-3)\n",
    "model.compile(loss='sparse_categorical_crossentropy', optimizer=optimizer, metrics=['accuracy'])\n",
    "model.fit(X_train, y_train, epochs=20, validation_data=[X_valid,y_valid], batch_size=batch_size)"
   ]
  },
  {
   "cell_type": "code",
   "execution_count": 12,
   "id": "655e0293",
   "metadata": {
    "execution": {
     "iopub.execute_input": "2025-10-07T19:54:04.468107Z",
     "iopub.status.busy": "2025-10-07T19:54:04.467719Z",
     "iopub.status.idle": "2025-10-07T19:54:04.473421Z",
     "shell.execute_reply": "2025-10-07T19:54:04.472411Z"
    },
    "papermill": {
     "duration": 0.118239,
     "end_time": "2025-10-07T19:54:04.475126",
     "exception": false,
     "start_time": "2025-10-07T19:54:04.356887",
     "status": "completed"
    },
    "tags": []
   },
   "outputs": [],
   "source": [
    "def sample_next_note(probs):\n",
    "    probabilities = np.asarray(probs, dtype=float)\n",
    "\n",
    "    prob_sum = probabilities.sum()\n",
    "\n",
    "    if prob_sum <= 0 or not np.isfinite(prob_sum):\n",
    "        return int(np.argmax(probabilities))\n",
    "    probabilities/= prob_sum\n",
    "\n",
    "\n",
    "    return np.random.choice(len(probabilities), p=probabilities)"
   ]
  },
  {
   "cell_type": "code",
   "execution_count": 13,
   "id": "07cded51",
   "metadata": {
    "execution": {
     "iopub.execute_input": "2025-10-07T19:54:04.684300Z",
     "iopub.status.busy": "2025-10-07T19:54:04.683930Z",
     "iopub.status.idle": "2025-10-07T19:54:04.690103Z",
     "shell.execute_reply": "2025-10-07T19:54:04.689195Z"
    },
    "papermill": {
     "duration": 0.111066,
     "end_time": "2025-10-07T19:54:04.691553",
     "exception": false,
     "start_time": "2025-10-07T19:54:04.580487",
     "status": "completed"
    },
    "tags": []
   },
   "outputs": [],
   "source": [
    "def generate_chorale(model, seed_chrods, length):\n",
    "    token_sequence = np.array(seed_chrods, dtype=int)\n",
    "    token_sequence = np.where(token_sequence ==0, 0, token_sequence - min_note + 1)\n",
    "    token_sequence = token_sequence.reshape(1, -1)\n",
    "\n",
    "    for _ in range(length * 4):\n",
    "        next_token_probabilities = model.predict(token_sequence,verbose=0)[0,-1]\n",
    "        next_token = sample_next_note(next_token_probabilities)\n",
    "        token_sequence = np.concatenate([token_sequence, [[next_token]]], axis = 1)\n",
    "        \n",
    "    token_sequence = np.where(token_sequence ==0, 0, token_sequence + min_note - 1)\n",
    "\n",
    "    return token_sequence.reshape(-1,4)\n",
    "    "
   ]
  },
  {
   "cell_type": "code",
   "execution_count": 14,
   "id": "92883e58",
   "metadata": {
    "execution": {
     "iopub.execute_input": "2025-10-07T19:54:04.904620Z",
     "iopub.status.busy": "2025-10-07T19:54:04.904297Z",
     "iopub.status.idle": "2025-10-07T19:54:07.803506Z",
     "shell.execute_reply": "2025-10-07T19:54:07.802505Z"
    },
    "papermill": {
     "duration": 3.00937,
     "end_time": "2025-10-07T19:54:07.805010",
     "exception": false,
     "start_time": "2025-10-07T19:54:04.795640",
     "status": "completed"
    },
    "tags": []
   },
   "outputs": [
    {
     "data": {
      "text/html": [
       "\n",
       "        <div id=\"midiPlayerDiv1977\"></div>\n",
       "        <link rel=\"stylesheet\" href=\"https://cuthbertLab.github.io/music21j/css/m21.css\">\n",
       "        \n",
       "        <script\n",
       "        src=\"https://cdnjs.cloudflare.com/ajax/libs/require.js/2.3.6/require.min.js\"\n",
       "        ></script>\n",
       "    \n",
       "        <script>\n",
       "        function midiPlayerDiv1977_play() {\n",
       "            const rq = require.config({\n",
       "                paths: {\n",
       "                    'music21': 'https://cuthbertLab.github.io/music21j/releases/music21.debug',\n",
       "                }\n",
       "            });\n",
       "            rq(['music21'], function(music21) {\n",
       "                mp = new music21.miditools.MidiPlayer();\n",
       "                mp.addPlayer(\"#midiPlayerDiv1977\");\n",
       "                mp.base64Load(\"data:audio/midi;base64,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\");\n",
       "            });\n",
       "        }\n",
       "        if (typeof require === 'undefined') {\n",
       "            setTimeout(midiPlayerDiv1977_play, 2000);\n",
       "        } else {\n",
       "            midiPlayerDiv1977_play();\n",
       "        }\n",
       "        </script>"
      ],
      "text/plain": [
       "<IPython.core.display.HTML object>"
      ]
     },
     "metadata": {},
     "output_type": "display_data"
    }
   ],
   "source": [
    "seed_chords = test_data[2]\n",
    "\n",
    "chorale = seed_chords\n",
    "s = stream.Stream()\n",
    "\n",
    "for row in chorale:\n",
    "    s.append(chord.Chord([n for n in row if n], quarterLength=1))\n",
    "s.show('midi')"
   ]
  },
  {
   "cell_type": "code",
   "execution_count": 15,
   "id": "d1e3465f",
   "metadata": {
    "execution": {
     "iopub.execute_input": "2025-10-07T19:54:08.019999Z",
     "iopub.status.busy": "2025-10-07T19:54:08.019638Z",
     "iopub.status.idle": "2025-10-07T19:54:37.841059Z",
     "shell.execute_reply": "2025-10-07T19:54:37.840142Z"
    },
    "papermill": {
     "duration": 29.928955,
     "end_time": "2025-10-07T19:54:37.842897",
     "exception": false,
     "start_time": "2025-10-07T19:54:07.913942",
     "status": "completed"
    },
    "tags": []
   },
   "outputs": [],
   "source": [
    "seed_chords = test_data[2][:8]\n",
    "\n",
    "new_chorale = generate_chorale(model, seed_chords, 56)"
   ]
  },
  {
   "cell_type": "code",
   "execution_count": 16,
   "id": "79edeb27",
   "metadata": {
    "execution": {
     "iopub.execute_input": "2025-10-07T19:54:38.055051Z",
     "iopub.status.busy": "2025-10-07T19:54:38.054664Z",
     "iopub.status.idle": "2025-10-07T19:54:38.061286Z",
     "shell.execute_reply": "2025-10-07T19:54:38.060433Z"
    },
    "papermill": {
     "duration": 0.114365,
     "end_time": "2025-10-07T19:54:38.062727",
     "exception": false,
     "start_time": "2025-10-07T19:54:37.948362",
     "status": "completed"
    },
    "tags": []
   },
   "outputs": [
    {
     "data": {
      "text/plain": [
       "array([[73, 68, 61, 53],\n",
       "       [73, 68, 61, 53],\n",
       "       [73, 68, 61, 53],\n",
       "       [73, 68, 61, 53],\n",
       "       [69, 66, 61, 54],\n",
       "       [69, 66, 61, 54],\n",
       "       [69, 66, 61, 54],\n",
       "       [69, 66, 61, 54],\n",
       "       [69, 66, 61, 54],\n",
       "       [69, 66, 61, 54],\n",
       "       [69, 66, 61, 54],\n",
       "       [69, 66, 61, 54],\n",
       "       [69, 66, 62, 50],\n",
       "       [69, 66, 62, 50],\n",
       "       [69, 66, 62, 51],\n",
       "       [69, 66, 62, 51],\n",
       "       [69, 65, 62, 50],\n",
       "       [69, 65, 62, 50],\n",
       "       [69, 66, 62, 48],\n",
       "       [69, 66, 62, 48],\n",
       "       [69, 64, 62, 46],\n",
       "       [69, 64, 62, 46],\n",
       "       [69, 62, 60, 45],\n",
       "       [69, 62, 59, 45],\n",
       "       [69, 62, 57, 45],\n",
       "       [69, 62, 57, 45],\n",
       "       [69, 64, 57, 45],\n",
       "       [71, 64, 57, 45],\n",
       "       [71, 64, 57, 45],\n",
       "       [71, 64, 57, 45],\n",
       "       [71, 64, 57, 52],\n",
       "       [71, 64, 57, 52],\n",
       "       [71, 64, 56, 52],\n",
       "       [71, 64, 56, 52],\n",
       "       [71, 64, 56, 52],\n",
       "       [71, 64, 56, 52],\n",
       "       [64, 59, 56, 52],\n",
       "       [64, 59, 56, 52],\n",
       "       [64, 59, 56, 52],\n",
       "       [64, 59, 56, 52],\n",
       "       [69, 64, 60, 52],\n",
       "       [69, 64, 60, 52],\n",
       "       [69, 64, 60, 52],\n",
       "       [69, 64, 60, 52],\n",
       "       [71, 63, 59, 50],\n",
       "       [71, 63, 59, 50],\n",
       "       [71, 63, 59, 50],\n",
       "       [71, 63, 59, 50],\n",
       "       [72, 64, 60, 48],\n",
       "       [72, 64, 60, 48],\n",
       "       [72, 64, 60, 48],\n",
       "       [72, 64, 60, 48],\n",
       "       [69, 64, 60, 50],\n",
       "       [69, 64, 60, 50],\n",
       "       [69, 64, 60, 48],\n",
       "       [69, 64, 60, 48],\n",
       "       [69, 64, 60, 45],\n",
       "       [69, 64, 60, 45],\n",
       "       [69, 64, 59, 45],\n",
       "       [69, 64, 59, 45],\n",
       "       [69, 64, 60, 45],\n",
       "       [69, 64, 60, 45],\n",
       "       [69, 64, 60, 45],\n",
       "       [69, 64, 60, 45]])"
      ]
     },
     "execution_count": 16,
     "metadata": {},
     "output_type": "execute_result"
    }
   ],
   "source": [
    "new_chorale"
   ]
  },
  {
   "cell_type": "code",
   "execution_count": 17,
   "id": "eb62706a",
   "metadata": {
    "execution": {
     "iopub.execute_input": "2025-10-07T19:54:38.279319Z",
     "iopub.status.busy": "2025-10-07T19:54:38.278993Z",
     "iopub.status.idle": "2025-10-07T19:54:39.304033Z",
     "shell.execute_reply": "2025-10-07T19:54:39.302937Z"
    },
    "papermill": {
     "duration": 1.137659,
     "end_time": "2025-10-07T19:54:39.305608",
     "exception": false,
     "start_time": "2025-10-07T19:54:38.167949",
     "status": "completed"
    },
    "tags": []
   },
   "outputs": [
    {
     "data": {
      "text/html": [
       "\n",
       "        <div id=\"midiPlayerDiv2306\"></div>\n",
       "        <link rel=\"stylesheet\" href=\"https://cuthbertLab.github.io/music21j/css/m21.css\">\n",
       "        \n",
       "        <script\n",
       "        src=\"https://cdnjs.cloudflare.com/ajax/libs/require.js/2.3.6/require.min.js\"\n",
       "        ></script>\n",
       "    \n",
       "        <script>\n",
       "        function midiPlayerDiv2306_play() {\n",
       "            const rq = require.config({\n",
       "                paths: {\n",
       "                    'music21': 'https://cuthbertLab.github.io/music21j/releases/music21.debug',\n",
       "                }\n",
       "            });\n",
       "            rq(['music21'], function(music21) {\n",
       "                mp = new music21.miditools.MidiPlayer();\n",
       "                mp.addPlayer(\"#midiPlayerDiv2306\");\n",
       "                mp.base64Load(\"data:audio/midi;base64,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\");\n",
       "            });\n",
       "        }\n",
       "        if (typeof require === 'undefined') {\n",
       "            setTimeout(midiPlayerDiv2306_play, 2000);\n",
       "        } else {\n",
       "            midiPlayerDiv2306_play();\n",
       "        }\n",
       "        </script>"
      ],
      "text/plain": [
       "<IPython.core.display.HTML object>"
      ]
     },
     "metadata": {},
     "output_type": "display_data"
    }
   ],
   "source": [
    "chorale = new_chorale.tolist()\n",
    "s = stream.Stream()\n",
    "\n",
    "for row in chorale:\n",
    "    s.append(chord.Chord([n for n in row if n], quarterLength=1))\n",
    "s.show('midi')"
   ]
  },
  {
   "cell_type": "code",
   "execution_count": 18,
   "id": "ad6183a6",
   "metadata": {
    "execution": {
     "iopub.execute_input": "2025-10-07T19:54:39.515253Z",
     "iopub.status.busy": "2025-10-07T19:54:39.514937Z",
     "iopub.status.idle": "2025-10-07T19:54:39.520828Z",
     "shell.execute_reply": "2025-10-07T19:54:39.519867Z"
    },
    "papermill": {
     "duration": 0.114591,
     "end_time": "2025-10-07T19:54:39.522623",
     "exception": false,
     "start_time": "2025-10-07T19:54:39.408032",
     "status": "completed"
    },
    "tags": []
   },
   "outputs": [],
   "source": [
    "def generate_random_chorale(length, rest_probability=0.2, pitch_low=36, pitch_high=81, seed=None):\n",
    "    rng = np.random.default_rng(seed)  # random number generator\n",
    "    random_pitches = rng.integers(pitch_low, pitch_high + 1, size=(length, 4))  # generate random notes\n",
    "\n",
    "    # some masking to have both silence and random pitches\n",
    "    rest_mask = rng.random((length, 4)) < float(rest_probability)\n",
    "    chorale = np.where(rest_mask, 0, random_pitches).astype(int)\n",
    "    \n",
    "    return chorale"
   ]
  },
  {
   "cell_type": "code",
   "execution_count": 19,
   "id": "ddaa7a05",
   "metadata": {
    "execution": {
     "iopub.execute_input": "2025-10-07T19:54:39.734400Z",
     "iopub.status.busy": "2025-10-07T19:54:39.734115Z",
     "iopub.status.idle": "2025-10-07T19:54:40.141273Z",
     "shell.execute_reply": "2025-10-07T19:54:40.140099Z"
    },
    "papermill": {
     "duration": 0.516828,
     "end_time": "2025-10-07T19:54:40.143235",
     "exception": false,
     "start_time": "2025-10-07T19:54:39.626407",
     "status": "completed"
    },
    "tags": []
   },
   "outputs": [
    {
     "data": {
      "text/html": [
       "\n",
       "        <div id=\"midiPlayerDiv2595\"></div>\n",
       "        <link rel=\"stylesheet\" href=\"https://cuthbertLab.github.io/music21j/css/m21.css\">\n",
       "        \n",
       "        <script\n",
       "        src=\"https://cdnjs.cloudflare.com/ajax/libs/require.js/2.3.6/require.min.js\"\n",
       "        ></script>\n",
       "    \n",
       "        <script>\n",
       "        function midiPlayerDiv2595_play() {\n",
       "            const rq = require.config({\n",
       "                paths: {\n",
       "                    'music21': 'https://cuthbertLab.github.io/music21j/releases/music21.debug',\n",
       "                }\n",
       "            });\n",
       "            rq(['music21'], function(music21) {\n",
       "                mp = new music21.miditools.MidiPlayer();\n",
       "                mp.addPlayer(\"#midiPlayerDiv2595\");\n",
       "                mp.base64Load(\"data:audio/midi;base64,TVRoZAAAAAYAAQACJ2BNVHJrAAAAFAD/UQMHoSAA/1gEBAIYCM5g/y8ATVRyawAABZYA/wMAAOAAQM5gkE1aAJBQWs5ggE0AAIBQAACQMVoAkEJaAJAlWgCQJ1rOYIAxAACAQgAAgCUAAIAnAACQUVoAkDRaAJBFWs5ggFEAAIA0AACARQAAkEpaAJBFWs5ggEoAAIBFAACQJ1oAkEhaAJBJWs5ggCcAAIBIAACASQAAkEtaAJAwWs5ggEsAAIAwAACQOloAkC1azmCAOgAAgC0AAJAmWgCQR1rOYIAmAACARwAAkENaAJBEWs5ggEMAAIBEAACQTVoAkDJaAJBJWs5ggE0AAIAyAACASQAAkEtaAJBAWgCQMFoAkDBazmCASwAAgEAAAIAwAACAMAAAkE9aAJAyWs5ggE8AAIAyAACQTFoAkDtaAJAwWgCQP1rOYIBMAACAOwAAgDAAAIA/AACQJFoAkE9aAJAyWgCQUFrOYIAkAACATwAAgDIAAIBQAACQJloAkCxaAJAkWgCQQ1rOYIAmAACALAAAgCQAAIBDAACQKloAkDVazmCAKgAAgDUAAJBQWgCQUFoAkDRazmCAUAAAgFAAAIA0AACQN1oAkDxaAJA6WgCQTVrOYIA3AACAPAAAgDoAAIBNAACQPFoAkFBaAJAlWs5ggDwAAIBQAACAJQAAkEdaAJA5WgCQSloAkCpazmCARwAAgDkAAIBKAACAKgAAkEhaAJAwWgCQL1oAkEBazmCASAAAgDAAAIAvAACAQAAAkEdazmCARwAAkERaAJAvWgCQT1rOYIBEAACALwAAgE8AAJBNWgCQO1oAkEtaAJBJWs5ggE0AAIA7AACASwAAgEkAAJBPWgCQPloAkCdazmCATwAAgD4AAIAnAACQPVoAkEpaAJAzWgCQMVrOYIA9AACASgAAgDMAAIAxAACQUVoAkDZazmCAUQAAgDYAAJBLWgCQOVoAkDdazmCASwAAgDkAAIA3AACQTloAkChazmCATgAAgCgAAJAzWgCQT1oAkElazmCAMwAAgE8AAIBJAACQPFoAkERaAJAwWgCQTFrOYIA8AACARAAAgDAAAIBMAACQTloAkEpaAJApWs5ggE4AAIBKAACAKQAAkExaAJBCWgCQTlrOYIBMAACAQgAAgE4AAJBCWgCQRlrOYIBCAACARgAAkEJaAJApWgCQN1rOYIBCAACAKQAAgDcAAJBPWgCQQFoAkE5azmCATwAAgEAAAIBOAACQLFoAkEhaAJAtWs5ggCwAAIBIAACALQAAkC9aAJAvWgCQR1rOYIAvAACALwAAgEcAAJAmWgCQLVrOYIAmAACALQAAkD5aAJBDWs5ggD4AAIBDAACQPVoAkCtazmCAPQAAgCsAAJA9WgCQT1oAkDxaAJAtWs5ggD0AAIBPAACAPAAAgC0AAJA3WgCQJloAkDxaAJBIWs5ggDcAAIAmAACAPAAAgEgAAJBEWgCQO1oAkE5aAJBDWs5ggEQAAIA7AACATgAAgEMAAJBBWgCQQloAkDVazmCAQQAAgEIAAIA1AACQTVoAkClaAJBCWgCQSlrOYIBNAACAKQAAgEIAAIBKAACQKFoAkERazmCAKAAAgEQAAJBDWgCQNFoAkEVazmCAQwAAgDQAAIBFAACQOVoAkE9aAJAzWgCQN1rOYIA5AACATwAAgDMAAIA3AACQO1oAkCZaAJAzWs5ggDsAAIAmAACAMwAAkC9aAJBOWgCQUFoAkClazmCALwAAgE4AAIBQAACAKQAAkD9aAJAxWgCQP1oAkEpazmCAPwAAgDEAAIA/AACASgAAkCZaAJBKWgCQKFrOYIAmAACASgAAgCgAAJAtWgCQKVoAkEJaAJAoWs5ggC0AAIApAACAQgAAgCgAAJAqWgCQTFrOYIAqAACATAAAkEBaAJAyWgCQPVoAkC1azmCAQAAAgDIAAIA9AACALQDOYP8vAA==\");\n",
       "            });\n",
       "        }\n",
       "        if (typeof require === 'undefined') {\n",
       "            setTimeout(midiPlayerDiv2595_play, 2000);\n",
       "        } else {\n",
       "            midiPlayerDiv2595_play();\n",
       "        }\n",
       "        </script>"
      ],
      "text/plain": [
       "<IPython.core.display.HTML object>"
      ]
     },
     "metadata": {},
     "output_type": "display_data"
    }
   ],
   "source": [
    "# listen to completely random music to compare the quality to what our model generated\n",
    "chorale = generate_random_chorale(56).tolist()\n",
    "s = stream.Stream()\n",
    "for row in chorale:\n",
    "    s.append(chord.Chord([n for n in row if n], quarterLength=1))\n",
    "s.show('midi')"
   ]
  },
  {
   "cell_type": "code",
   "execution_count": null,
   "id": "983f01d6",
   "metadata": {
    "papermill": {
     "duration": 0.106251,
     "end_time": "2025-10-07T19:54:40.356718",
     "exception": false,
     "start_time": "2025-10-07T19:54:40.250467",
     "status": "completed"
    },
    "tags": []
   },
   "outputs": [],
   "source": []
  }
 ],
 "metadata": {
  "kaggle": {
   "accelerator": "none",
   "dataSources": [
    {
     "datasetId": 2315386,
     "sourceId": 3897595,
     "sourceType": "datasetVersion"
    }
   ],
   "dockerImageVersionId": 31153,
   "isGpuEnabled": false,
   "isInternetEnabled": true,
   "language": "python",
   "sourceType": "notebook"
  },
  "kernelspec": {
   "display_name": "Python 3",
   "language": "python",
   "name": "python3"
  },
  "language_info": {
   "codemirror_mode": {
    "name": "ipython",
    "version": 3
   },
   "file_extension": ".py",
   "mimetype": "text/x-python",
   "name": "python",
   "nbconvert_exporter": "python",
   "pygments_lexer": "ipython3",
   "version": "3.11.13"
  },
  "papermill": {
   "default_parameters": {},
   "duration": 829.069394,
   "end_time": "2025-10-07T19:54:44.137578",
   "environment_variables": {},
   "exception": null,
   "input_path": "__notebook__.ipynb",
   "output_path": "__notebook__.ipynb",
   "parameters": {},
   "start_time": "2025-10-07T19:40:55.068184",
   "version": "2.6.0"
  }
 },
 "nbformat": 4,
 "nbformat_minor": 5
}
