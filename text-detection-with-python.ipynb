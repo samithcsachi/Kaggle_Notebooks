{
 "cells": [
  {
   "cell_type": "code",
   "execution_count": 1,
   "id": "5fd7e2d4",
   "metadata": {
    "execution": {
     "iopub.execute_input": "2025-10-28T19:10:48.272332Z",
     "iopub.status.busy": "2025-10-28T19:10:48.271987Z",
     "iopub.status.idle": "2025-10-28T19:10:48.277386Z",
     "shell.execute_reply": "2025-10-28T19:10:48.276377Z"
    },
    "papermill": {
     "duration": 0.011206,
     "end_time": "2025-10-28T19:10:48.278988",
     "exception": false,
     "start_time": "2025-10-28T19:10:48.267782",
     "status": "completed"
    },
    "tags": []
   },
   "outputs": [],
   "source": [
    "#!apt-get update\n",
    "#!apt-get install -y tesseract-ocr libtesseract-dev\n"
   ]
  },
  {
   "cell_type": "code",
   "execution_count": 2,
   "id": "aa117337",
   "metadata": {
    "execution": {
     "iopub.execute_input": "2025-10-28T19:10:48.285800Z",
     "iopub.status.busy": "2025-10-28T19:10:48.285493Z",
     "iopub.status.idle": "2025-10-28T19:10:48.290406Z",
     "shell.execute_reply": "2025-10-28T19:10:48.289353Z"
    },
    "papermill": {
     "duration": 0.010016,
     "end_time": "2025-10-28T19:10:48.291995",
     "exception": false,
     "start_time": "2025-10-28T19:10:48.281979",
     "status": "completed"
    },
    "tags": []
   },
   "outputs": [],
   "source": [
    "#!pip install -q pytesseract Pillow easyocr boto3"
   ]
  },
  {
   "cell_type": "code",
   "execution_count": 3,
   "id": "2cebea9d",
   "metadata": {
    "execution": {
     "iopub.execute_input": "2025-10-28T19:10:48.298548Z",
     "iopub.status.busy": "2025-10-28T19:10:48.298145Z",
     "iopub.status.idle": "2025-10-28T19:10:48.302557Z",
     "shell.execute_reply": "2025-10-28T19:10:48.301451Z"
    },
    "papermill": {
     "duration": 0.009489,
     "end_time": "2025-10-28T19:10:48.304150",
     "exception": false,
     "start_time": "2025-10-28T19:10:48.294661",
     "status": "completed"
    },
    "tags": []
   },
   "outputs": [],
   "source": [
    "#!pip install --upgrade Pillow"
   ]
  },
  {
   "cell_type": "markdown",
   "id": "9613942d",
   "metadata": {
    "papermill": {
     "duration": 0.002266,
     "end_time": "2025-10-28T19:10:48.308994",
     "exception": false,
     "start_time": "2025-10-28T19:10:48.306728",
     "status": "completed"
    },
    "tags": []
   },
   "source": [
    "### Tesseract "
   ]
  },
  {
   "cell_type": "code",
   "execution_count": 4,
   "id": "92733728",
   "metadata": {
    "execution": {
     "iopub.execute_input": "2025-10-28T19:10:48.315776Z",
     "iopub.status.busy": "2025-10-28T19:10:48.314657Z",
     "iopub.status.idle": "2025-10-28T19:10:50.988713Z",
     "shell.execute_reply": "2025-10-28T19:10:50.987501Z"
    },
    "papermill": {
     "duration": 2.679138,
     "end_time": "2025-10-28T19:10:50.990469",
     "exception": false,
     "start_time": "2025-10-28T19:10:48.311331",
     "status": "completed"
    },
    "tags": []
   },
   "outputs": [
    {
     "name": "stdout",
     "output_type": "stream",
     "text": [
      "License Plate: HR696969\n"
     ]
    }
   ],
   "source": [
    "import pytesseract\n",
    "from PIL import Image\n",
    "\n",
    "image_path = '/kaggle/input/license-plate-characters-detection-ocr/LP-characters/images/0006.png'\n",
    "\n",
    "\n",
    "custom_config = r'--oem 3 --psm 13 -c tessedit_char_whitelist=ABCDEFGHIJKLMNOPQRSTUVWXYZ0123456789'\n",
    "\n",
    "text = pytesseract.image_to_string(Image.open(image_path), lang='eng', config=custom_config)\n",
    "print(\"License Plate:\", text.strip())"
   ]
  },
  {
   "cell_type": "markdown",
   "id": "4e4df155",
   "metadata": {
    "papermill": {
     "duration": 0.002131,
     "end_time": "2025-10-28T19:10:50.995126",
     "exception": false,
     "start_time": "2025-10-28T19:10:50.992995",
     "status": "completed"
    },
    "tags": []
   },
   "source": [
    "### Easyocr "
   ]
  },
  {
   "cell_type": "code",
   "execution_count": 5,
   "id": "94658b10",
   "metadata": {
    "execution": {
     "iopub.execute_input": "2025-10-28T19:10:51.001122Z",
     "iopub.status.busy": "2025-10-28T19:10:51.000738Z",
     "iopub.status.idle": "2025-10-28T19:11:10.646911Z",
     "shell.execute_reply": "2025-10-28T19:11:10.645872Z"
    },
    "papermill": {
     "duration": 19.65106,
     "end_time": "2025-10-28T19:11:10.648513",
     "exception": false,
     "start_time": "2025-10-28T19:10:50.997453",
     "status": "completed"
    },
    "tags": []
   },
   "outputs": [
    {
     "name": "stdout",
     "output_type": "stream",
     "text": [
      "License Plate: HR 69 6969\n",
      "\n",
      "Detailed results:\n",
      "[([[25, 19], [185, 19], [185, 55], [25, 55]], 'HR 69 6969', 0.8323629209789235)]\n"
     ]
    }
   ],
   "source": [
    "from easyocr import Reader \n",
    "from PIL import Image\n",
    "\n",
    "image_path = '/kaggle/input/license-plate-characters-detection-ocr/LP-characters/images/0006.png'\n",
    "\n",
    "reader = Reader(['en'])\n",
    "results = reader.readtext(image_path) \n",
    "\n",
    "text = ''\n",
    "for result in results:\n",
    "    text = text + result[1] + ' '\n",
    "text = text[:-1]\n",
    "\n",
    "print(\"License Plate:\",text)\n",
    "print(\"\\nDetailed results:\")\n",
    "print(results)"
   ]
  },
  {
   "cell_type": "code",
   "execution_count": 6,
   "id": "7aa6db84",
   "metadata": {
    "execution": {
     "iopub.execute_input": "2025-10-28T19:11:10.655194Z",
     "iopub.status.busy": "2025-10-28T19:11:10.654686Z",
     "iopub.status.idle": "2025-10-28T19:11:13.682476Z",
     "shell.execute_reply": "2025-10-28T19:11:13.681677Z"
    },
    "papermill": {
     "duration": 3.03283,
     "end_time": "2025-10-28T19:11:13.684076",
     "exception": false,
     "start_time": "2025-10-28T19:11:10.651246",
     "status": "completed"
    },
    "tags": []
   },
   "outputs": [],
   "source": [
    "import pytesseract\n",
    "from PIL import Image\n",
    "from easyocr import Reader \n",
    "\n",
    "reader = Reader(['en'])\n",
    "\n",
    "def read_text_tesseract(image_path_full):\n",
    "    custom_config = r'--oem 3 --psm 7 -c tessedit_char_whitelist=0123456789'\n",
    "    text = pytesseract.image_to_string(Image.open(image_path_full), config=custom_config)\n",
    "    return text.strip()\n",
    "\n",
    "\n",
    "def read_text_easyocr(image_path_full):\n",
    "    results = reader.readtext(image_path_full)\n",
    "    text = ' '.join([res[1] for res in results])\n",
    "    return text.strip()\n",
    "    \n",
    "\n"
   ]
  },
  {
   "cell_type": "code",
   "execution_count": 7,
   "id": "3489a83a",
   "metadata": {
    "execution": {
     "iopub.execute_input": "2025-10-28T19:11:13.691777Z",
     "iopub.status.busy": "2025-10-28T19:11:13.691102Z",
     "iopub.status.idle": "2025-10-28T19:13:34.258309Z",
     "shell.execute_reply": "2025-10-28T19:13:34.257361Z"
    },
    "papermill": {
     "duration": 140.575017,
     "end_time": "2025-10-28T19:13:34.262287",
     "exception": false,
     "start_time": "2025-10-28T19:11:13.687270",
     "status": "completed"
    },
    "tags": []
   },
   "outputs": [
    {
     "name": "stdout",
     "output_type": "stream",
     "text": [
      "Score tesseract: 29.11230158730157\n",
      "Score easyocr: 24.181995061630616\n"
     ]
    }
   ],
   "source": [
    "import os \n",
    "\n",
    "def jaccard_similarity_chars(s1, s2):\n",
    "    set1, set2 = set(s1), set(s2)\n",
    "    intersection = len(set1 & set2)\n",
    "    union = len(set1 | set2)\n",
    "    return intersection / union if union != 0 else 0.0\n",
    "\n",
    "image_dir = '/kaggle/input/license-plate-characters-detection-ocr/LP-characters/images'\n",
    "\n",
    "score_tesseract = 0\n",
    "score_easyocr = 0\n",
    "num_images = 0\n",
    "\n",
    "for image_name in os.listdir(image_dir):\n",
    "    image_path_full = os.path.join(image_dir, image_name)\n",
    "\n",
    "    gt = os.path.splitext(image_name)[0].replace('_', ' ').lower()\n",
    "\n",
    "    text_tess = read_text_tesseract(image_path_full).lower().replace('\\n', '')\n",
    "    text_easy = read_text_easyocr(image_path_full).lower().replace('\\n', '')\n",
    "\n",
    "    score_tesseract += jaccard_similarity_chars(gt, text_tess)\n",
    "    score_easyocr += jaccard_similarity_chars(gt, text_easy)\n",
    "\n",
    "    num_images += 1\n",
    "    \n",
    "\n",
    "print('Score tesseract:', score_tesseract )\n",
    "print('Score easyocr:', score_easyocr)"
   ]
  },
  {
   "cell_type": "code",
   "execution_count": null,
   "id": "6f7551c6",
   "metadata": {
    "papermill": {
     "duration": 0.002322,
     "end_time": "2025-10-28T19:13:34.267260",
     "exception": false,
     "start_time": "2025-10-28T19:13:34.264938",
     "status": "completed"
    },
    "tags": []
   },
   "outputs": [],
   "source": []
  }
 ],
 "metadata": {
  "kaggle": {
   "accelerator": "none",
   "dataSources": [
    {
     "datasetId": 1918159,
     "sourceId": 3152252,
     "sourceType": "datasetVersion"
    }
   ],
   "dockerImageVersionId": 31153,
   "isGpuEnabled": false,
   "isInternetEnabled": true,
   "language": "python",
   "sourceType": "notebook"
  },
  "kernelspec": {
   "display_name": "Python 3",
   "language": "python",
   "name": "python3"
  },
  "language_info": {
   "codemirror_mode": {
    "name": "ipython",
    "version": 3
   },
   "file_extension": ".py",
   "mimetype": "text/x-python",
   "name": "python",
   "nbconvert_exporter": "python",
   "pygments_lexer": "ipython3",
   "version": "3.11.13"
  },
  "papermill": {
   "default_parameters": {},
   "duration": 174.731095,
   "end_time": "2025-10-28T19:13:37.349203",
   "environment_variables": {},
   "exception": null,
   "input_path": "__notebook__.ipynb",
   "output_path": "__notebook__.ipynb",
   "parameters": {},
   "start_time": "2025-10-28T19:10:42.618108",
   "version": "2.6.0"
  }
 },
 "nbformat": 4,
 "nbformat_minor": 5
}
