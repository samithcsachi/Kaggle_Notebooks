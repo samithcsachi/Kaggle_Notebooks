{
 "cells": [
  {
   "cell_type": "code",
   "execution_count": 1,
   "id": "0ccb1e56",
   "metadata": {
    "execution": {
     "iopub.execute_input": "2025-10-28T08:45:39.754165Z",
     "iopub.status.busy": "2025-10-28T08:45:39.752677Z",
     "iopub.status.idle": "2025-10-28T08:45:39.759096Z",
     "shell.execute_reply": "2025-10-28T08:45:39.757640Z"
    },
    "papermill": {
     "duration": 0.013946,
     "end_time": "2025-10-28T08:45:39.761385",
     "exception": false,
     "start_time": "2025-10-28T08:45:39.747439",
     "status": "completed"
    },
    "tags": []
   },
   "outputs": [],
   "source": [
    "#!apt-get update\n",
    "#!apt-get install -y tesseract-ocr libtesseract-dev\n"
   ]
  },
  {
   "cell_type": "code",
   "execution_count": 2,
   "id": "1b5e8550",
   "metadata": {
    "execution": {
     "iopub.execute_input": "2025-10-28T08:45:39.768777Z",
     "iopub.status.busy": "2025-10-28T08:45:39.768417Z",
     "iopub.status.idle": "2025-10-28T08:45:39.774072Z",
     "shell.execute_reply": "2025-10-28T08:45:39.772729Z"
    },
    "papermill": {
     "duration": 0.011943,
     "end_time": "2025-10-28T08:45:39.776823",
     "exception": false,
     "start_time": "2025-10-28T08:45:39.764880",
     "status": "completed"
    },
    "tags": []
   },
   "outputs": [],
   "source": [
    "#!pip install -q pytesseract Pillow easyocr boto3"
   ]
  },
  {
   "cell_type": "code",
   "execution_count": 3,
   "id": "bfaace47",
   "metadata": {
    "execution": {
     "iopub.execute_input": "2025-10-28T08:45:39.783737Z",
     "iopub.status.busy": "2025-10-28T08:45:39.783386Z",
     "iopub.status.idle": "2025-10-28T08:45:39.789220Z",
     "shell.execute_reply": "2025-10-28T08:45:39.787550Z"
    },
    "papermill": {
     "duration": 0.011851,
     "end_time": "2025-10-28T08:45:39.791320",
     "exception": false,
     "start_time": "2025-10-28T08:45:39.779469",
     "status": "completed"
    },
    "tags": []
   },
   "outputs": [],
   "source": [
    "#!pip install --upgrade Pillow"
   ]
  },
  {
   "cell_type": "markdown",
   "id": "ce4c0c74",
   "metadata": {
    "papermill": {
     "duration": 0.001937,
     "end_time": "2025-10-28T08:45:39.799926",
     "exception": false,
     "start_time": "2025-10-28T08:45:39.797989",
     "status": "completed"
    },
    "tags": []
   },
   "source": [
    "### Tesseract "
   ]
  },
  {
   "cell_type": "code",
   "execution_count": 4,
   "id": "1bbf9786",
   "metadata": {
    "execution": {
     "iopub.execute_input": "2025-10-28T08:45:39.805236Z",
     "iopub.status.busy": "2025-10-28T08:45:39.804935Z",
     "iopub.status.idle": "2025-10-28T08:45:42.509197Z",
     "shell.execute_reply": "2025-10-28T08:45:42.507408Z"
    },
    "papermill": {
     "duration": 2.70915,
     "end_time": "2025-10-28T08:45:42.511089",
     "exception": false,
     "start_time": "2025-10-28T08:45:39.801939",
     "status": "completed"
    },
    "tags": []
   },
   "outputs": [
    {
     "name": "stdout",
     "output_type": "stream",
     "text": [
      "License Plate: HR696969\n"
     ]
    }
   ],
   "source": [
    "import pytesseract\n",
    "from PIL import Image\n",
    "\n",
    "image_path = '/kaggle/input/license-plate-characters-detection-ocr/LP-characters/images/0006.png'\n",
    "\n",
    "\n",
    "custom_config = r'--oem 3 --psm 13 -c tessedit_char_whitelist=ABCDEFGHIJKLMNOPQRSTUVWXYZ0123456789'\n",
    "\n",
    "text = pytesseract.image_to_string(Image.open(image_path), lang='eng', config=custom_config)\n",
    "print(\"License Plate:\", text.strip())"
   ]
  },
  {
   "cell_type": "markdown",
   "id": "577de9e1",
   "metadata": {
    "papermill": {
     "duration": 0.001901,
     "end_time": "2025-10-28T08:45:42.515259",
     "exception": false,
     "start_time": "2025-10-28T08:45:42.513358",
     "status": "completed"
    },
    "tags": []
   },
   "source": [
    "### Easyocr "
   ]
  },
  {
   "cell_type": "code",
   "execution_count": 5,
   "id": "96c17ae4",
   "metadata": {
    "execution": {
     "iopub.execute_input": "2025-10-28T08:45:42.520760Z",
     "iopub.status.busy": "2025-10-28T08:45:42.520313Z",
     "iopub.status.idle": "2025-10-28T08:46:03.389773Z",
     "shell.execute_reply": "2025-10-28T08:46:03.388123Z"
    },
    "papermill": {
     "duration": 20.874315,
     "end_time": "2025-10-28T08:46:03.391655",
     "exception": false,
     "start_time": "2025-10-28T08:45:42.517340",
     "status": "completed"
    },
    "tags": []
   },
   "outputs": [
    {
     "name": "stdout",
     "output_type": "stream",
     "text": [
      "License Plate: HR 69 6969\n",
      "\n",
      "Detailed results:\n",
      "[([[25, 19], [185, 19], [185, 55], [25, 55]], 'HR 69 6969', 0.8323629209789235)]\n"
     ]
    }
   ],
   "source": [
    "from easyocr import Reader \n",
    "from PIL import Image\n",
    "\n",
    "image_path = '/kaggle/input/license-plate-characters-detection-ocr/LP-characters/images/0006.png'\n",
    "\n",
    "reader = Reader(['en'])\n",
    "results = reader.readtext(image_path) \n",
    "\n",
    "text = ''\n",
    "for result in results:\n",
    "    text = text + result[1] + ' '\n",
    "text = text[:-1]\n",
    "\n",
    "print(\"License Plate:\",text)\n",
    "print(\"\\nDetailed results:\")\n",
    "print(results)"
   ]
  }
 ],
 "metadata": {
  "kaggle": {
   "accelerator": "none",
   "dataSources": [
    {
     "datasetId": 1918159,
     "sourceId": 3152252,
     "sourceType": "datasetVersion"
    }
   ],
   "dockerImageVersionId": 31153,
   "isGpuEnabled": false,
   "isInternetEnabled": true,
   "language": "python",
   "sourceType": "notebook"
  },
  "kernelspec": {
   "display_name": "Python 3",
   "language": "python",
   "name": "python3"
  },
  "language_info": {
   "codemirror_mode": {
    "name": "ipython",
    "version": 3
   },
   "file_extension": ".py",
   "mimetype": "text/x-python",
   "name": "python",
   "nbconvert_exporter": "python",
   "pygments_lexer": "ipython3",
   "version": "3.11.13"
  },
  "papermill": {
   "default_parameters": {},
   "duration": 32.792625,
   "end_time": "2025-10-28T08:46:06.506650",
   "environment_variables": {},
   "exception": null,
   "input_path": "__notebook__.ipynb",
   "output_path": "__notebook__.ipynb",
   "parameters": {},
   "start_time": "2025-10-28T08:45:33.714025",
   "version": "2.6.0"
  }
 },
 "nbformat": 4,
 "nbformat_minor": 5
}
